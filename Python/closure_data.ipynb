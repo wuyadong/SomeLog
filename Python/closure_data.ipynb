{
 "cells": [
  {
   "cell_type": "markdown",
   "metadata": {},
   "source": [
    "# python 闭包获取外围数据\n",
    "\n",
    "Effictive python 第15条中使用nolocal来获取外围数据。"
   ]
  },
  {
   "cell_type": "code",
   "execution_count": 7,
   "metadata": {
    "collapsed": false
   },
   "outputs": [
    {
     "name": "stdout",
     "output_type": "stream",
     "text": [
      "True\n",
      "[2, 3, 5, 7, 1, 4, 6, 8]\n"
     ]
    }
   ],
   "source": [
    "def sort_priority(vaules, group):\n",
    "    found = False\n",
    "    def helper(x):\n",
    "        nonlocal found\n",
    "        if x in group:\n",
    "            found = True\n",
    "            return (0, x)\n",
    "        return (1, x)\n",
    "    vaules.sort(key=helper)\n",
    "    return found\n",
    "\n",
    "numbers = [8, 3, 1, 2, 5, 4, 7, 6]\n",
    "group = (2, 3, 5, 7)\n",
    "f = sort_priority(numbers, group)\n",
    "print(f)\n",
    "print(numbers)\n"
   ]
  },
  {
   "cell_type": "markdown",
   "metadata": {},
   "source": [
    "如果使用函数成员结果如何呢? 看起来似乎也行。\n"
   ]
  },
  {
   "cell_type": "code",
   "execution_count": 21,
   "metadata": {
    "collapsed": false
   },
   "outputs": [
    {
     "name": "stdout",
     "output_type": "stream",
     "text": [
      "True\n",
      "[2, 3, 5, 7, 1, 4, 6, 8]\n",
      "True\n"
     ]
    }
   ],
   "source": [
    "def sort_priority(vaules, group):\n",
    "    sort_priority.found = False\n",
    "    def helper(x):\n",
    "        if x in group:\n",
    "            sort_priority.found = True\n",
    "            return (0, x)\n",
    "        return (1, x)\n",
    "    vaules.sort(key=helper)\n",
    "    return sort_priority.found\n",
    "\n",
    "numbers = [8, 3, 1, 2, 5, 4, 7, 6]\n",
    "group = (2, 3, 5, 7)\n",
    "f = sort_priority(numbers, group)\n",
    "\n",
    "print(f)\n",
    "print(numbers)\n",
    "\n",
    "print(sort_priority.found) # 变量怎么跑出来了？变成了全局变量啦。。"
   ]
  }
 ],
 "metadata": {
  "kernelspec": {
   "display_name": "Python 3",
   "language": "python",
   "name": "python3"
  },
  "language_info": {
   "codemirror_mode": {
    "name": "ipython",
    "version": 3
   },
   "file_extension": ".py",
   "mimetype": "text/x-python",
   "name": "python",
   "nbconvert_exporter": "python",
   "pygments_lexer": "ipython3",
   "version": "3.4.4"
  }
 },
 "nbformat": 4,
 "nbformat_minor": 0
}
